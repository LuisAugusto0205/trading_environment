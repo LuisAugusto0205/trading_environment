{
  "cells": [
    {
      "cell_type": "markdown",
      "metadata": {
        "id": "lNx_ePX4aGol"
      },
      "source": [
        "# Importação dos dados\n",
        "\n",
        "Foi utilizada o API do Yahoo Finance para obter os dados de cotação histórico do ativo de Open-High-Low-Close (OHLC)"
      ]
    },
    {
      "cell_type": "code",
      "execution_count": 1,
      "metadata": {
        "colab": {
          "base_uri": "https://localhost:8080/",
          "height": 472
        },
        "id": "03f3kOQOojeB",
        "outputId": "5fe71a12-9408-40ae-d9e6-9b82f85401a1"
      },
      "outputs": [
        {
          "name": "stderr",
          "output_type": "stream",
          "text": [
            "c:\\Users\\gutop\\Documents\\BIA\\BIA_Semestre_8\\Residencia\\Semana_6\\code\\ray-rllib\\rllib-resi\\lib\\site-packages\\tqdm\\auto.py:21: TqdmWarning: IProgress not found. Please update jupyter and ipywidgets. See https://ipywidgets.readthedocs.io/en/stable/user_install.html\n",
            "  from .autonotebook import tqdm as notebook_tqdm\n",
            "2023-12-17 10:37:31,104\tINFO util.py:159 -- Missing packages: ['ipywidgets']. Run `pip install -U ipywidgets`, then restart the notebook server for rich notebook output.\n",
            "2023-12-17 10:37:41,806\tINFO util.py:159 -- Missing packages: ['ipywidgets']. Run `pip install -U ipywidgets`, then restart the notebook server for rich notebook output.\n"
          ]
        },
        {
          "name": "stdout",
          "output_type": "stream",
          "text": [
            "[*********************100%%**********************]  1 of 1 completed\n"
          ]
        },
        {
          "data": {
            "text/html": [
              "<div>\n",
              "<style scoped>\n",
              "    .dataframe tbody tr th:only-of-type {\n",
              "        vertical-align: middle;\n",
              "    }\n",
              "\n",
              "    .dataframe tbody tr th {\n",
              "        vertical-align: top;\n",
              "    }\n",
              "\n",
              "    .dataframe thead th {\n",
              "        text-align: right;\n",
              "    }\n",
              "</style>\n",
              "<table border=\"1\" class=\"dataframe\">\n",
              "  <thead>\n",
              "    <tr style=\"text-align: right;\">\n",
              "      <th></th>\n",
              "      <th>Open</th>\n",
              "      <th>High</th>\n",
              "      <th>Low</th>\n",
              "      <th>Close</th>\n",
              "      <th>Adj Close</th>\n",
              "      <th>Volume</th>\n",
              "    </tr>\n",
              "    <tr>\n",
              "      <th>Date</th>\n",
              "      <th></th>\n",
              "      <th></th>\n",
              "      <th></th>\n",
              "      <th></th>\n",
              "      <th></th>\n",
              "      <th></th>\n",
              "    </tr>\n",
              "  </thead>\n",
              "  <tbody>\n",
              "    <tr>\n",
              "      <th>2012-01-03</th>\n",
              "      <td>14.621429</td>\n",
              "      <td>14.732143</td>\n",
              "      <td>14.607143</td>\n",
              "      <td>14.686786</td>\n",
              "      <td>12.449694</td>\n",
              "      <td>302220800</td>\n",
              "    </tr>\n",
              "    <tr>\n",
              "      <th>2012-01-04</th>\n",
              "      <td>14.642857</td>\n",
              "      <td>14.810000</td>\n",
              "      <td>14.617143</td>\n",
              "      <td>14.765714</td>\n",
              "      <td>12.516596</td>\n",
              "      <td>260022000</td>\n",
              "    </tr>\n",
              "    <tr>\n",
              "      <th>2012-01-05</th>\n",
              "      <td>14.819643</td>\n",
              "      <td>14.948214</td>\n",
              "      <td>14.738214</td>\n",
              "      <td>14.929643</td>\n",
              "      <td>12.655556</td>\n",
              "      <td>271269600</td>\n",
              "    </tr>\n",
              "    <tr>\n",
              "      <th>2012-01-06</th>\n",
              "      <td>14.991786</td>\n",
              "      <td>15.098214</td>\n",
              "      <td>14.972143</td>\n",
              "      <td>15.085714</td>\n",
              "      <td>12.787854</td>\n",
              "      <td>318292800</td>\n",
              "    </tr>\n",
              "    <tr>\n",
              "      <th>2012-01-09</th>\n",
              "      <td>15.196429</td>\n",
              "      <td>15.276786</td>\n",
              "      <td>15.048214</td>\n",
              "      <td>15.061786</td>\n",
              "      <td>12.767572</td>\n",
              "      <td>394024400</td>\n",
              "    </tr>\n",
              "    <tr>\n",
              "      <th>...</th>\n",
              "      <td>...</td>\n",
              "      <td>...</td>\n",
              "      <td>...</td>\n",
              "      <td>...</td>\n",
              "      <td>...</td>\n",
              "      <td>...</td>\n",
              "    </tr>\n",
              "    <tr>\n",
              "      <th>2017-12-22</th>\n",
              "      <td>43.669998</td>\n",
              "      <td>43.855000</td>\n",
              "      <td>43.625000</td>\n",
              "      <td>43.752499</td>\n",
              "      <td>41.372990</td>\n",
              "      <td>65397600</td>\n",
              "    </tr>\n",
              "    <tr>\n",
              "      <th>2017-12-26</th>\n",
              "      <td>42.700001</td>\n",
              "      <td>42.867500</td>\n",
              "      <td>42.419998</td>\n",
              "      <td>42.642502</td>\n",
              "      <td>40.323353</td>\n",
              "      <td>132742000</td>\n",
              "    </tr>\n",
              "    <tr>\n",
              "      <th>2017-12-27</th>\n",
              "      <td>42.525002</td>\n",
              "      <td>42.695000</td>\n",
              "      <td>42.427502</td>\n",
              "      <td>42.650002</td>\n",
              "      <td>40.330452</td>\n",
              "      <td>85992800</td>\n",
              "    </tr>\n",
              "    <tr>\n",
              "      <th>2017-12-28</th>\n",
              "      <td>42.750000</td>\n",
              "      <td>42.962502</td>\n",
              "      <td>42.619999</td>\n",
              "      <td>42.770000</td>\n",
              "      <td>40.443920</td>\n",
              "      <td>65920800</td>\n",
              "    </tr>\n",
              "    <tr>\n",
              "      <th>2017-12-29</th>\n",
              "      <td>42.630001</td>\n",
              "      <td>42.647499</td>\n",
              "      <td>42.305000</td>\n",
              "      <td>42.307499</td>\n",
              "      <td>40.006573</td>\n",
              "      <td>103999600</td>\n",
              "    </tr>\n",
              "  </tbody>\n",
              "</table>\n",
              "<p>1509 rows × 6 columns</p>\n",
              "</div>"
            ],
            "text/plain": [
              "                 Open       High        Low      Close  Adj Close     Volume\n",
              "Date                                                                        \n",
              "2012-01-03  14.621429  14.732143  14.607143  14.686786  12.449694  302220800\n",
              "2012-01-04  14.642857  14.810000  14.617143  14.765714  12.516596  260022000\n",
              "2012-01-05  14.819643  14.948214  14.738214  14.929643  12.655556  271269600\n",
              "2012-01-06  14.991786  15.098214  14.972143  15.085714  12.787854  318292800\n",
              "2012-01-09  15.196429  15.276786  15.048214  15.061786  12.767572  394024400\n",
              "...               ...        ...        ...        ...        ...        ...\n",
              "2017-12-22  43.669998  43.855000  43.625000  43.752499  41.372990   65397600\n",
              "2017-12-26  42.700001  42.867500  42.419998  42.642502  40.323353  132742000\n",
              "2017-12-27  42.525002  42.695000  42.427502  42.650002  40.330452   85992800\n",
              "2017-12-28  42.750000  42.962502  42.619999  42.770000  40.443920   65920800\n",
              "2017-12-29  42.630001  42.647499  42.305000  42.307499  40.006573  103999600\n",
              "\n",
              "[1509 rows x 6 columns]"
            ]
          },
          "execution_count": 1,
          "metadata": {},
          "output_type": "execute_result"
        }
      ],
      "source": [
        "import gymnasium as gym\n",
        "from ray.rllib.models.preprocessors import get_preprocessor\n",
        "\n",
        "from TradingEnv import TradingMarket\n",
        "\n",
        "from gymnasium import spaces\n",
        "import numpy as np\n",
        "\n",
        "import pandas as pd\n",
        "import pandas_datareader.data as pdr\n",
        "import yfinance\n",
        "\n",
        "yfinance.pdr_override()\n",
        "\n",
        "data_inicial = \"2012-01-01\"\n",
        "data_final = \"2017-12-31\"\n",
        "df = pdr.get_data_yahoo(\"AAPL\", data_inicial, data_final)\n",
        "\n",
        "# df.columns =  map(lambda x: x.lower(), df.columns)\n",
        "\n",
        "df"
      ]
    },
    {
      "cell_type": "code",
      "execution_count": 75,
      "metadata": {},
      "outputs": [
        {
          "name": "stderr",
          "output_type": "stream",
          "text": [
            "c:\\Users\\gutop\\Documents\\BIA\\BIA_Semestre_8\\Residencia\\Semana_6\\code\\ray-rllib\\rllib-resi\\lib\\site-packages\\tsfresh\\utilities\\dataframe_functions.py:520: UserWarning: Your time stamps are not uniformly sampled, which makes rolling nonsensical in some domains.\n",
            "  warnings.warn(\n",
            "Rolling:   0%|          | 0/20 [00:00<?, ?it/s]"
          ]
        },
        {
          "name": "stderr",
          "output_type": "stream",
          "text": [
            "Rolling: 100%|██████████| 20/20 [00:07<00:00,  2.59it/s]\n",
            "Feature Extraction: 100%|██████████| 20/20 [00:06<00:00,  3.01it/s]\n"
          ]
        },
        {
          "data": {
            "text/html": [
              "<div>\n",
              "<style scoped>\n",
              "    .dataframe tbody tr th:only-of-type {\n",
              "        vertical-align: middle;\n",
              "    }\n",
              "\n",
              "    .dataframe tbody tr th {\n",
              "        vertical-align: top;\n",
              "    }\n",
              "\n",
              "    .dataframe thead th {\n",
              "        text-align: right;\n",
              "    }\n",
              "</style>\n",
              "<table border=\"1\" class=\"dataframe\">\n",
              "  <thead>\n",
              "    <tr style=\"text-align: right;\">\n",
              "      <th></th>\n",
              "      <th>Close__mean</th>\n",
              "      <th>Close__standard_deviation</th>\n",
              "      <th>Close__minimum</th>\n",
              "      <th>Close__maximum</th>\n",
              "      <th>Close</th>\n",
              "      <th>return_lag_1</th>\n",
              "      <th>return_lag_5</th>\n",
              "      <th>return_lag_10</th>\n",
              "    </tr>\n",
              "  </thead>\n",
              "  <tbody>\n",
              "    <tr>\n",
              "      <th>0</th>\n",
              "      <td>2.711710</td>\n",
              "      <td>0.011244</td>\n",
              "      <td>2.686948</td>\n",
              "      <td>2.729509</td>\n",
              "      <td>2.709026</td>\n",
              "      <td>-0.016513</td>\n",
              "      <td>0.010330</td>\n",
              "      <td>0.003574</td>\n",
              "    </tr>\n",
              "    <tr>\n",
              "      <th>1</th>\n",
              "      <td>2.717220</td>\n",
              "      <td>0.016690</td>\n",
              "      <td>2.692308</td>\n",
              "      <td>2.769593</td>\n",
              "      <td>2.769593</td>\n",
              "      <td>0.060567</td>\n",
              "      <td>-0.003174</td>\n",
              "      <td>-0.001632</td>\n",
              "    </tr>\n",
              "    <tr>\n",
              "      <th>2</th>\n",
              "      <td>2.722069</td>\n",
              "      <td>0.019134</td>\n",
              "      <td>2.703349</td>\n",
              "      <td>2.769593</td>\n",
              "      <td>2.765038</td>\n",
              "      <td>-0.004555</td>\n",
              "      <td>-0.017570</td>\n",
              "      <td>-0.002749</td>\n",
              "    </tr>\n",
              "    <tr>\n",
              "      <th>3</th>\n",
              "      <td>2.726577</td>\n",
              "      <td>0.021952</td>\n",
              "      <td>2.707598</td>\n",
              "      <td>2.770980</td>\n",
              "      <td>2.770980</td>\n",
              "      <td>0.005942</td>\n",
              "      <td>0.016775</td>\n",
              "      <td>-0.003757</td>\n",
              "    </tr>\n",
              "    <tr>\n",
              "      <th>4</th>\n",
              "      <td>2.731242</td>\n",
              "      <td>0.025822</td>\n",
              "      <td>2.707598</td>\n",
              "      <td>2.783710</td>\n",
              "      <td>2.783710</td>\n",
              "      <td>0.012729</td>\n",
              "      <td>-0.016513</td>\n",
              "      <td>0.011581</td>\n",
              "    </tr>\n",
              "    <tr>\n",
              "      <th>...</th>\n",
              "      <td>...</td>\n",
              "      <td>...</td>\n",
              "      <td>...</td>\n",
              "      <td>...</td>\n",
              "      <td>...</td>\n",
              "      <td>...</td>\n",
              "      <td>...</td>\n",
              "      <td>...</td>\n",
              "    </tr>\n",
              "    <tr>\n",
              "      <th>1490</th>\n",
              "      <td>3.763156</td>\n",
              "      <td>0.013875</td>\n",
              "      <td>3.743663</td>\n",
              "      <td>3.786573</td>\n",
              "      <td>3.778549</td>\n",
              "      <td>0.000000</td>\n",
              "      <td>0.013985</td>\n",
              "      <td>0.019297</td>\n",
              "    </tr>\n",
              "    <tr>\n",
              "      <th>1491</th>\n",
              "      <td>3.763458</td>\n",
              "      <td>0.013595</td>\n",
              "      <td>3.743663</td>\n",
              "      <td>3.786573</td>\n",
              "      <td>3.752851</td>\n",
              "      <td>-0.025697</td>\n",
              "      <td>-0.010714</td>\n",
              "      <td>-0.005633</td>\n",
              "    </tr>\n",
              "    <tr>\n",
              "      <th>1492</th>\n",
              "      <td>3.763834</td>\n",
              "      <td>0.013218</td>\n",
              "      <td>3.743663</td>\n",
              "      <td>3.786573</td>\n",
              "      <td>3.753027</td>\n",
              "      <td>0.000176</td>\n",
              "      <td>-0.001089</td>\n",
              "      <td>0.003314</td>\n",
              "    </tr>\n",
              "    <tr>\n",
              "      <th>1493</th>\n",
              "      <td>3.764645</td>\n",
              "      <td>0.012296</td>\n",
              "      <td>3.745496</td>\n",
              "      <td>3.786573</td>\n",
              "      <td>3.755837</td>\n",
              "      <td>0.002810</td>\n",
              "      <td>0.003778</td>\n",
              "      <td>-0.000290</td>\n",
              "    </tr>\n",
              "    <tr>\n",
              "      <th>1494</th>\n",
              "      <td>3.764610</td>\n",
              "      <td>0.012352</td>\n",
              "      <td>3.744964</td>\n",
              "      <td>3.786573</td>\n",
              "      <td>3.744964</td>\n",
              "      <td>-0.010873</td>\n",
              "      <td>0.000000</td>\n",
              "      <td>0.010110</td>\n",
              "    </tr>\n",
              "  </tbody>\n",
              "</table>\n",
              "<p>1495 rows × 8 columns</p>\n",
              "</div>"
            ],
            "text/plain": [
              "      Close__mean  Close__standard_deviation  Close__minimum  Close__maximum  \\\n",
              "0        2.711710                   0.011244        2.686948        2.729509   \n",
              "1        2.717220                   0.016690        2.692308        2.769593   \n",
              "2        2.722069                   0.019134        2.703349        2.769593   \n",
              "3        2.726577                   0.021952        2.707598        2.770980   \n",
              "4        2.731242                   0.025822        2.707598        2.783710   \n",
              "...           ...                        ...             ...             ...   \n",
              "1490     3.763156                   0.013875        3.743663        3.786573   \n",
              "1491     3.763458                   0.013595        3.743663        3.786573   \n",
              "1492     3.763834                   0.013218        3.743663        3.786573   \n",
              "1493     3.764645                   0.012296        3.745496        3.786573   \n",
              "1494     3.764610                   0.012352        3.744964        3.786573   \n",
              "\n",
              "         Close  return_lag_1  return_lag_5  return_lag_10  \n",
              "0     2.709026     -0.016513      0.010330       0.003574  \n",
              "1     2.769593      0.060567     -0.003174      -0.001632  \n",
              "2     2.765038     -0.004555     -0.017570      -0.002749  \n",
              "3     2.770980      0.005942      0.016775      -0.003757  \n",
              "4     2.783710      0.012729     -0.016513       0.011581  \n",
              "...        ...           ...           ...            ...  \n",
              "1490  3.778549      0.000000      0.013985       0.019297  \n",
              "1491  3.752851     -0.025697     -0.010714      -0.005633  \n",
              "1492  3.753027      0.000176     -0.001089       0.003314  \n",
              "1493  3.755837      0.002810      0.003778      -0.000290  \n",
              "1494  3.744964     -0.010873      0.000000       0.010110  \n",
              "\n",
              "[1495 rows x 8 columns]"
            ]
          },
          "execution_count": 75,
          "metadata": {},
          "output_type": "execute_result"
        }
      ],
      "source": [
        "from tsfresh.utilities.dataframe_functions import roll_time_series\n",
        "ts = df.reset_index()[[\"Date\", \"Close\"]]\n",
        "ts['Close'] = np.log(ts['Close'])\n",
        "ts['id'] = 1\n",
        "\n",
        "res = roll_time_series(ts, column_id='id', column_sort=\"Date\", min_timeshift=14, max_timeshift=14)\n",
        "feat = extract_features(res, column_id=\"id\", column_sort=\"Date\", default_fc_parameters=fc_parameters)\n",
        "feat = feat.reset_index(level=1).reset_index(drop=True).rename({\"level_1\": \"Date\"}, axis=1)\n",
        "\n",
        "for i in [1] + list(range(5, 15, 5)):\n",
        "    ts[f'return_lag_{i}'] = ts['Close'].shift(i-1) - ts['Close'].shift(i)\n",
        "\n",
        "feat.merge(ts, on=\"Date\").drop(\"id\", axis=1).drop('Date', axis=1)"
      ]
    },
    {
      "cell_type": "code",
      "execution_count": null,
      "metadata": {},
      "outputs": [],
      "source": [
        "import matplotlib.pyplot as plt\n",
        "\n",
        "plt.plot(df['Close'])"
      ]
    },
    {
      "cell_type": "code",
      "execution_count": null,
      "metadata": {},
      "outputs": [],
      "source": [
        "import matplotlib.pyplot as plt\n",
        "\n",
        "fig, ax = plt.subplots(3, 1, figsize =(15, 10))\n",
        "plt.yticks(fontsize=20)\n",
        "fig.suptitle(\"Exemplos de episódios em diferente reinicializações do ambiente\", fontweight = \"bold\", fontsize=20)\n",
        "ax[0].set_title(\"Episódio A\", fontsize =18, loc='left')\n",
        "ax[0].plot(df['Close'], color='blue', label='Cotação do BBAS3')\n",
        "ax[0].axvspan(\"2005-01-01\", \"2005-10-31\", alpha=.5, color='red', label='Dias no episódio')\n",
        "ax[0].set_yticklabels(ax[0].get_yticklabels(), fontsize=14)\n",
        "ax[0].set_xticklabels(ax[0].get_xticklabels(), fontsize=14)\n",
        "ax[0].set_xlabel(\"Tempo\", size=16)\n",
        "ax[0].set_ylabel(\"R$\", size=16)\n",
        "\n",
        "plt.yticks(fontsize=20)\n",
        "ax[1].set_title(\"Episódio B\", fontsize =18, loc='left')\n",
        "ax[1].plot(df['Close'], color='blue', label='Cotação do BBAS3')\n",
        "ax[1].axvspan(\"2019-01-01\", \"2019-10-31\", alpha=.5, color='red', label='Dias no episódio')\n",
        "ax[1].set_yticklabels(ax[1].get_yticklabels(), fontsize=14)\n",
        "ax[1].set_xticklabels(ax[1].get_xticklabels(), fontsize=14)\n",
        "ax[1].set_xlabel(\"Tempo\", size=16)\n",
        "ax[1].set_ylabel(\"R$\", size=16)\n",
        "ax[1].legend(bbox_to_anchor=(1.0, 0.5), prop={'size':12})\n",
        "\n",
        "ax[2].set_title(\"Episódio C\", fontsize =18, loc='left')\n",
        "ax[2].plot(df['Close'], color='blue', label='Cotação do BBAS3')\n",
        "ax[2].axvspan(\"2010-01-01\", \"2010-10-31\", alpha=.5, color='red', label='Dias no episódio')\n",
        "ax[2].set_yticklabels(ax[2].get_yticklabels(), fontsize=14)\n",
        "ax[2].set_xticklabels(ax[2].get_xticklabels(), fontsize=14)\n",
        "ax[2].set_xlabel(\"Tempo\", size=16)\n",
        "ax[2].set_ylabel(\"R$\", size=16)\n",
        "\n",
        "\n",
        "plt.tight_layout()\n",
        "plt.show()"
      ]
    },
    {
      "cell_type": "markdown",
      "metadata": {
        "id": "EeWlmOFZar8j"
      },
      "source": [
        "# Funções de recompensa\n",
        "\n",
        "As alternativas de recompensa implementada até o momento estão:\n",
        "\n",
        "\n",
        "*   Logarítimo do retorno\n",
        "*   Shape ratio\n",
        "*   Sortino ratio\n",
        "\n",
        "Mais detalhes sobre essas duas últimas métricas estão disponíveis no entregavél do GATE 4:\n",
        "\n",
        "https://docs.google.com/document/d/1-xymX7KVVSFVd2N3o1iPpnrDbNlmnz88syhMCVq_ZiY/edit\n",
        "\n"
      ]
    },
    {
      "cell_type": "code",
      "execution_count": null,
      "metadata": {
        "id": "6QVYqRSvay-p"
      },
      "outputs": [],
      "source": [
        "def log_return(history):\n",
        "    return np.log(history[-1]/history[-2])\n",
        "\n",
        "def sharpe_ratio(history, risk_free=0):\n",
        "    portifolio_return = np.mean(history)\n",
        "    portifolio_std = np.std(history)\n",
        "    return (portifolio_return - risk_free)/portifolio_std\n",
        "\n",
        "def sortino_ratio(history, risk_free=0):\n",
        "    portifolio_return = np.mean(history)\n",
        "    portifolio_std = np.std([x for x in history if x < 0])\n",
        "    portifolio_std = 1 if str(portifolio_std) == 'nan' else portifolio_std\n",
        "\n",
        "    return (portifolio_return - risk_free)/portifolio_std"
      ]
    },
    {
      "cell_type": "markdown",
      "metadata": {
        "id": "KSg1N6VTau1U"
      },
      "source": [
        "# Versão simplificada do ambiente\n",
        "\n",
        "Esta versão simplificada do ambiente foi desenvolvida baseada no código do repósitorio:\n",
        "\n",
        "https://github.com/ClementPerroud/Gym-Trading-Env\n",
        "\n",
        "Esse repositório já implementa um ambiente para trading seguindo o estrutura dos ambiente do openai gym. É uma implementação bem completa que inclui diversos aspectos do mercado financeiro como taxa de transação, Short selling and Margin Trading.\n",
        "\n",
        "Contudo, tive um alguns problemas para testar o código disponivel com alguns erros sendo gerados. Por isso, estudei o código fonte e decidi implementar essa primeira versão do ambiente. Para mais detalhes, acessar entregável do GATE 5:\n",
        "\n",
        "https://docs.google.com/document/d/14VQprimbpDVYgyBsrwqNKn7-xIdIUSNwj_oOVPZ3kWA/edit\n",
        "\n"
      ]
    },
    {
      "cell_type": "code",
      "execution_count": null,
      "metadata": {
        "id": "z2iYEyIQGLaL"
      },
      "outputs": [],
      "source": [
        "class TradingMarket(gym.Env):\n",
        "    def __init__(self, data, initial_value=1000, positions=[1, 0], reward_func=log_return, window=15, dt_fim=None, epi_len=300):\n",
        "        super().__init__()\n",
        "\n",
        "        self.data = {}\n",
        "        # self.tickets = tickets\n",
        "        # for ticket in self.tickets:\n",
        "        #     self.data[ticket] = pdr.get_data_yahoo(ticket, end=dt_fim)\n",
        "        self.historical_price = data[\"data\"]\n",
        "        self.epi_len = epi_len\n",
        "        self.positions = np.array(positions)\n",
        "        #print(self.tickets)\n",
        "        #self.ticket = ticket#np.random.choice(tickets)\n",
        "        self.initial_value = initial_value\n",
        "        self.window = window\n",
        "        self.idx = np.random.randint(self.window, self.historical_price.shape[0] - self.epi_len)\n",
        "        self.steps = 0\n",
        "        self.position = 0\n",
        "        \n",
        "        self.n_assets = self.position * self.initial_value / self.historical_price.iloc[self.idx, :]['Close']\n",
        "        self.avaiable_money = (1 - self.position) * self.initial_value\n",
        "\n",
        "\n",
        "        self.action_space = spaces.Discrete(len(positions))\n",
        "\n",
        "    #     self.observation_space = spaces.Dict({\n",
        "    #         \"history_data\": spaces.Box(\n",
        "    #                 -np.inf,\n",
        "    #                 np.inf,\n",
        "    #                 shape = [self.window],\n",
        "    #                 dtype=np.float64\n",
        "    #         ),\n",
        "    #         \"position\":spaces.Discrete(2)\n",
        "    #    })\n",
        "\n",
        "        self.observation_space = spaces.Box(\n",
        "                -np.inf,\n",
        "                np.inf,\n",
        "                shape = [self.window+2],\n",
        "                dtype=np.float64\n",
        "        )\n",
        "\n",
        "        self.history = [initial_value]\n",
        "        self.reward_func = reward_func\n",
        "        self.done = False\n",
        "\n",
        "    def valorisation(self, price):\n",
        "        \"\"\"\n",
        "        Calcula qual o valor total do patrimônio em reais como preço da ação\n",
        "        fornecido\n",
        "        \"\"\"\n",
        "        return price*self.n_assets + self.avaiable_money\n",
        "\n",
        "    def _get_obs(self):\n",
        "        OHLC = self.historical_price.iloc[self.idx-self.window : self.idx, 3].values\n",
        "        onehot_action = np.zeros((2), dtype=np.float64)\n",
        "        onehot_action[np.where(self.positions == self.position)] = 1\n",
        "        observation = np.concatenate([\n",
        "            OHLC, \n",
        "            onehot_action\n",
        "        ])\n",
        "        return observation\n",
        "\n",
        "    def reset(self, seed=None, options=None):\n",
        "        \"\"\"\n",
        "        Reset o ambiente ambiente para os valores inciais\n",
        "        \"\"\"\n",
        "        np.random.seed(seed)\n",
        "        self.history = [self.initial_value]\n",
        "        self.idx = np.random.randint(self.window, self.historical_price.shape[0] - self.epi_len)\n",
        "        self.steps = 0\n",
        "        self.done = False\n",
        "        #self.ticket = self.tickets[0]#np.random.choice(self.tickets)\n",
        "\n",
        "        # observation = {\n",
        "        #     \"history_data\": OHLC, \n",
        "        #     \"position\": 0\n",
        "        # }\n",
        "\n",
        "        observation = self._get_obs()\n",
        "\n",
        "        return observation, {}\n",
        "\n",
        "    def step(self, desired_position):\n",
        "        \"\"\"\n",
        "        Executa uma ação no ambiente. Nesse caso, rebalancea o portifolio entre\n",
        "        reais e ações compradas segundo a posição desejada\n",
        "        \"\"\"\n",
        "        price = self.historical_price.iloc[self.idx+1, :]['Close']\n",
        "        current_value = self.valorisation(price)\n",
        "\n",
        "        if desired_position != self.position:\n",
        "            ideal_n_assets = current_value*desired_position/price\n",
        "\n",
        "            asset_to_trade = ideal_n_assets - self.n_assets\n",
        "\n",
        "            operation_cost = asset_to_trade * price\n",
        "            self.avaiable_money = self.avaiable_money - operation_cost\n",
        "            self.n_assets = self.n_assets + asset_to_trade\n",
        "            self.position = desired_position\n",
        "\n",
        "        self.history.append(current_value)\n",
        "\n",
        "        # observation = {\n",
        "        #     \"history_data\": OHLC, \n",
        "        #     \"position\": self.position\n",
        "        # }\n",
        "\n",
        "        if self.steps == self.epi_len:\n",
        "            self.done = True\n",
        "\n",
        "        self.idx += 1\n",
        "        self.steps += 1\n",
        "        reward = self.reward_func(\n",
        "            self.history[\n",
        "                max(self.steps-self.window, 0):\n",
        "                self.steps+1\n",
        "            ]\n",
        "        )\n",
        "        observation = self._get_obs()\n",
        "        \n",
        "        return observation, reward, self.done, False, {}\n",
        "\n",
        "    def reward(self, history, **kwargs):\n",
        "        \"\"\"\n",
        "        Função de recompensa que guiará o aprendizado.\n",
        "        \"\"\"\n",
        "        return self.reward_func(history, **kwargs)"
      ]
    },
    {
      "cell_type": "code",
      "execution_count": null,
      "metadata": {},
      "outputs": [],
      "source": [
        "import torch\n",
        "from ray.rllib.models.torch.misc import SlimConv2d, SlimFC\n",
        "\n",
        "models = {\n",
        "    'channels': [5, 50, 2],\n",
        "    'kernels': [(3, 1), (13, 1), (1, 1)]\n",
        "}\n",
        "\n",
        "data = torch.randn((3, 15))\n",
        "data = data.unsqueeze(dim=1).unsqueeze(dim=-1)\n",
        "fc1 = SlimConv2d(1, 5, (3, 1), 1, 0)\n",
        "fc2 = SlimConv2d(5, 50, (13, 1), 1, 0)\n",
        "#fc3 = SlimConv2d(50, 2, (1, 1), 1, 0)\n",
        "fc3 = SlimFC(52, 2)\n",
        "\n",
        "fc3(torch.cat([fc2(fc1(data)).squeeze(), torch.randint(0, 2, (3, 2))], dim=1)).shape"
      ]
    },
    {
      "cell_type": "code",
      "execution_count": null,
      "metadata": {},
      "outputs": [],
      "source": [
        "env = gym.make(\"TradeEnv-v0\")\n",
        "\n",
        "obs, _ = env.reset()"
      ]
    },
    {
      "cell_type": "code",
      "execution_count": null,
      "metadata": {},
      "outputs": [],
      "source": [
        "obs[:-2]"
      ]
    },
    {
      "cell_type": "code",
      "execution_count": null,
      "metadata": {},
      "outputs": [],
      "source": [
        "pd.DataFrame({\"id\":[1]*15, \"time\": range(15), \"close\": obs[:-2]})"
      ]
    },
    {
      "cell_type": "code",
      "execution_count": null,
      "metadata": {},
      "outputs": [],
      "source": [
        "import ray\n",
        "from models.convolutional import ConvModel\n",
        "from TradingEnv import TradingMarket, log_return\n",
        "from ray.rllib.models.catalog import ModelCatalog\n",
        "from ray.rllib.algorithms import ppo\n",
        "\n",
        "ray.init()\n",
        "\n",
        "# Register the above custom model.\n",
        "ModelCatalog.register_custom_model(\"my_torch_model\", ConvModel)\n",
        "\n",
        "# Create the Algorithm from a config object.\n",
        "config = (\n",
        "    ppo.PPOConfig()\n",
        "    .rollouts(\n",
        "        num_rollout_workers=7,\n",
        "    )\n",
        "    .environment(env=TradingMarket, env_config={\"data\":df})\n",
        "    .framework(\"torch\")\n",
        "    .training(\n",
        "         model={\n",
        "    #         # Auto-wrap the custom(!) model with an LSTM.\n",
        "    #         \"use_lstm\": True,\n",
        "    #         # To further customize the LSTM auto-wrapper.\n",
        "    #         \"lstm_cell_size\": 64,\n",
        "    #         # Specify our custom model from above.\n",
        "            \"custom_model\": \"my_torch_model\",\n",
        "    #         # Extra kwargs to be passed to your model's c'tor.\n",
        "            \"custom_model_config\": {\n",
        "                'channels': [5, 50],\n",
        "                'kernels': [(3, 1), (13, 1)],\n",
        "                'activation_fn': ['relu', 'relu']\n",
        "            },\n",
        "        },\n",
        "        _enable_learner_api=False\n",
        "    ).rl_module(_enable_rl_module_api=False)\n",
        ")\n",
        "algo = config.build()\n",
        "algo.train()\n",
        "\n",
        "for _ in range(5):\n",
        "    print(algo.train())  # 3. train it,\n",
        "\n",
        "algo.evaluate() #algo.stop()"
      ]
    },
    {
      "cell_type": "code",
      "execution_count": null,
      "metadata": {},
      "outputs": [],
      "source": [
        "ray.shutdown()"
      ]
    },
    {
      "cell_type": "markdown",
      "metadata": {
        "id": "vOvn4JMHdq4v"
      },
      "source": [
        "# Exemplo de execução do ambiente\n",
        "\n",
        "Para esse pequena simulação os dados da ação do Banco do Brasil foram utilizados. Não foi testado nenhum agente, apenas uma estrátegia bem simplória com o uso da média dos últimos dias como referência de alta ou queda para fins."
      ]
    },
    {
      "cell_type": "code",
      "execution_count": 2,
      "metadata": {},
      "outputs": [],
      "source": [
        "from TsfreshEnv import TradingMarket, log_return\n",
        "from utils import compute_features"
      ]
    },
    {
      "cell_type": "code",
      "execution_count": 3,
      "metadata": {},
      "outputs": [
        {
          "name": "stderr",
          "output_type": "stream",
          "text": [
            "c:\\Users\\gutop\\Documents\\BIA\\BIA_Semestre_8\\Residencia\\Semana_6\\code\\ray-rllib\\rllib-resi\\lib\\site-packages\\tsfresh\\utilities\\dataframe_functions.py:520: UserWarning: Your time stamps are not uniformly sampled, which makes rolling nonsensical in some domains.\n",
            "  warnings.warn(\n",
            "Rolling:   0%|          | 0/20 [00:00<?, ?it/s]"
          ]
        },
        {
          "name": "stderr",
          "output_type": "stream",
          "text": [
            "Rolling: 100%|██████████| 20/20 [00:07<00:00,  2.52it/s]\n",
            "Feature Extraction: 100%|██████████| 20/20 [00:06<00:00,  2.93it/s]\n"
          ]
        },
        {
          "data": {
            "text/html": [
              "<div>\n",
              "<style scoped>\n",
              "    .dataframe tbody tr th:only-of-type {\n",
              "        vertical-align: middle;\n",
              "    }\n",
              "\n",
              "    .dataframe tbody tr th {\n",
              "        vertical-align: top;\n",
              "    }\n",
              "\n",
              "    .dataframe thead th {\n",
              "        text-align: right;\n",
              "    }\n",
              "</style>\n",
              "<table border=\"1\" class=\"dataframe\">\n",
              "  <thead>\n",
              "    <tr style=\"text-align: right;\">\n",
              "      <th></th>\n",
              "      <th>Close__mean</th>\n",
              "      <th>Close__standard_deviation</th>\n",
              "      <th>Close__minimum</th>\n",
              "      <th>Close__maximum</th>\n",
              "      <th>Close</th>\n",
              "      <th>return_lag_1</th>\n",
              "      <th>return_lag_5</th>\n",
              "      <th>return_lag_10</th>\n",
              "    </tr>\n",
              "  </thead>\n",
              "  <tbody>\n",
              "    <tr>\n",
              "      <th>0</th>\n",
              "      <td>2.711710</td>\n",
              "      <td>0.011244</td>\n",
              "      <td>2.686948</td>\n",
              "      <td>2.729509</td>\n",
              "      <td>2.709026</td>\n",
              "      <td>-0.016513</td>\n",
              "      <td>0.010330</td>\n",
              "      <td>0.003574</td>\n",
              "    </tr>\n",
              "    <tr>\n",
              "      <th>1</th>\n",
              "      <td>2.717220</td>\n",
              "      <td>0.016690</td>\n",
              "      <td>2.692308</td>\n",
              "      <td>2.769593</td>\n",
              "      <td>2.769593</td>\n",
              "      <td>0.060567</td>\n",
              "      <td>-0.003174</td>\n",
              "      <td>-0.001632</td>\n",
              "    </tr>\n",
              "    <tr>\n",
              "      <th>2</th>\n",
              "      <td>2.722069</td>\n",
              "      <td>0.019134</td>\n",
              "      <td>2.703349</td>\n",
              "      <td>2.769593</td>\n",
              "      <td>2.765038</td>\n",
              "      <td>-0.004555</td>\n",
              "      <td>-0.017570</td>\n",
              "      <td>-0.002749</td>\n",
              "    </tr>\n",
              "    <tr>\n",
              "      <th>3</th>\n",
              "      <td>2.726577</td>\n",
              "      <td>0.021952</td>\n",
              "      <td>2.707598</td>\n",
              "      <td>2.770980</td>\n",
              "      <td>2.770980</td>\n",
              "      <td>0.005942</td>\n",
              "      <td>0.016775</td>\n",
              "      <td>-0.003757</td>\n",
              "    </tr>\n",
              "    <tr>\n",
              "      <th>4</th>\n",
              "      <td>2.731242</td>\n",
              "      <td>0.025822</td>\n",
              "      <td>2.707598</td>\n",
              "      <td>2.783710</td>\n",
              "      <td>2.783710</td>\n",
              "      <td>0.012729</td>\n",
              "      <td>-0.016513</td>\n",
              "      <td>0.011581</td>\n",
              "    </tr>\n",
              "    <tr>\n",
              "      <th>...</th>\n",
              "      <td>...</td>\n",
              "      <td>...</td>\n",
              "      <td>...</td>\n",
              "      <td>...</td>\n",
              "      <td>...</td>\n",
              "      <td>...</td>\n",
              "      <td>...</td>\n",
              "      <td>...</td>\n",
              "    </tr>\n",
              "    <tr>\n",
              "      <th>1490</th>\n",
              "      <td>3.763156</td>\n",
              "      <td>0.013875</td>\n",
              "      <td>3.743663</td>\n",
              "      <td>3.786573</td>\n",
              "      <td>3.778549</td>\n",
              "      <td>0.000000</td>\n",
              "      <td>0.013985</td>\n",
              "      <td>0.019297</td>\n",
              "    </tr>\n",
              "    <tr>\n",
              "      <th>1491</th>\n",
              "      <td>3.763458</td>\n",
              "      <td>0.013595</td>\n",
              "      <td>3.743663</td>\n",
              "      <td>3.786573</td>\n",
              "      <td>3.752851</td>\n",
              "      <td>-0.025697</td>\n",
              "      <td>-0.010714</td>\n",
              "      <td>-0.005633</td>\n",
              "    </tr>\n",
              "    <tr>\n",
              "      <th>1492</th>\n",
              "      <td>3.763834</td>\n",
              "      <td>0.013218</td>\n",
              "      <td>3.743663</td>\n",
              "      <td>3.786573</td>\n",
              "      <td>3.753027</td>\n",
              "      <td>0.000176</td>\n",
              "      <td>-0.001089</td>\n",
              "      <td>0.003314</td>\n",
              "    </tr>\n",
              "    <tr>\n",
              "      <th>1493</th>\n",
              "      <td>3.764645</td>\n",
              "      <td>0.012296</td>\n",
              "      <td>3.745496</td>\n",
              "      <td>3.786573</td>\n",
              "      <td>3.755837</td>\n",
              "      <td>0.002810</td>\n",
              "      <td>0.003778</td>\n",
              "      <td>-0.000290</td>\n",
              "    </tr>\n",
              "    <tr>\n",
              "      <th>1494</th>\n",
              "      <td>3.764610</td>\n",
              "      <td>0.012352</td>\n",
              "      <td>3.744964</td>\n",
              "      <td>3.786573</td>\n",
              "      <td>3.744964</td>\n",
              "      <td>-0.010873</td>\n",
              "      <td>0.000000</td>\n",
              "      <td>0.010110</td>\n",
              "    </tr>\n",
              "  </tbody>\n",
              "</table>\n",
              "<p>1495 rows × 8 columns</p>\n",
              "</div>"
            ],
            "text/plain": [
              "      Close__mean  Close__standard_deviation  Close__minimum  Close__maximum  \\\n",
              "0        2.711710                   0.011244        2.686948        2.729509   \n",
              "1        2.717220                   0.016690        2.692308        2.769593   \n",
              "2        2.722069                   0.019134        2.703349        2.769593   \n",
              "3        2.726577                   0.021952        2.707598        2.770980   \n",
              "4        2.731242                   0.025822        2.707598        2.783710   \n",
              "...           ...                        ...             ...             ...   \n",
              "1490     3.763156                   0.013875        3.743663        3.786573   \n",
              "1491     3.763458                   0.013595        3.743663        3.786573   \n",
              "1492     3.763834                   0.013218        3.743663        3.786573   \n",
              "1493     3.764645                   0.012296        3.745496        3.786573   \n",
              "1494     3.764610                   0.012352        3.744964        3.786573   \n",
              "\n",
              "         Close  return_lag_1  return_lag_5  return_lag_10  \n",
              "0     2.709026     -0.016513      0.010330       0.003574  \n",
              "1     2.769593      0.060567     -0.003174      -0.001632  \n",
              "2     2.765038     -0.004555     -0.017570      -0.002749  \n",
              "3     2.770980      0.005942      0.016775      -0.003757  \n",
              "4     2.783710      0.012729     -0.016513       0.011581  \n",
              "...        ...           ...           ...            ...  \n",
              "1490  3.778549      0.000000      0.013985       0.019297  \n",
              "1491  3.752851     -0.025697     -0.010714      -0.005633  \n",
              "1492  3.753027      0.000176     -0.001089       0.003314  \n",
              "1493  3.755837      0.002810      0.003778      -0.000290  \n",
              "1494  3.744964     -0.010873      0.000000       0.010110  \n",
              "\n",
              "[1495 rows x 8 columns]"
            ]
          },
          "execution_count": 3,
          "metadata": {},
          "output_type": "execute_result"
        }
      ],
      "source": [
        "compute_features(df.reset_index(), 15)"
      ]
    },
    {
      "cell_type": "code",
      "execution_count": null,
      "metadata": {},
      "outputs": [],
      "source": [
        "gym.envs.register(\n",
        "    id='TradeEnv-v0',\n",
        "    entry_point=TradingMarket,\n",
        "    kwargs={\n",
        "        \"env_config\": {\n",
        "            \"OHCL\":df,\n",
        "            \"feat\":compute_features(df.reset_index(), 15),\n",
        "            \"initial_value\": 1000,\n",
        "            \"positions\": [0, 1], \n",
        "            \"window\": 15,\n",
        "            \"epi_len\":300\n",
        "        }\n",
        "    }\n",
        ")"
      ]
    },
    {
      "cell_type": "code",
      "execution_count": 5,
      "metadata": {},
      "outputs": [],
      "source": [
        "env = gym.make('TradeEnv-v0')"
      ]
    },
    {
      "cell_type": "code",
      "execution_count": 85,
      "metadata": {},
      "outputs": [
        {
          "name": "stdout",
          "output_type": "stream",
          "text": [
            "225\n",
            "525\n",
            "300\n",
            "Recompensa obtida: 0.9992544805337676\n",
            "Patrimônio final: 775.5629715972358\n"
          ]
        }
      ],
      "source": [
        "#env = gym.make('TradeEnv-v0')\n",
        "obs, _ = env.reset()\n",
        "print(env.idx)\n",
        "done = False\n",
        "rewards = []\n",
        "i = 0\n",
        "while not done:\n",
        "    i+=1\n",
        "    if obs[-1] == 0 and obs[0] < obs[4]:\n",
        "        action = 1\n",
        "    elif obs[-1] == 1 and obs[0] < obs[4]:\n",
        "        action = 1\n",
        "    elif obs[-2] == 0 and obs[0] > obs[4]:\n",
        "        action = 0\n",
        "    elif obs[-2] == 1 and obs[0] > obs[4]:\n",
        "        action = 0\n",
        "\n",
        "    obs, rwd, done, *_ = env.step(action)\n",
        "\n",
        "    rewards.append(rwd)\n",
        "print(env.idx)\n",
        "print(i)\n",
        "print(f\"Recompensa obtida: {np.exp(np.mean(rewards))}\")\n",
        "last_price = env.historical_price.iloc[env.idx, 3]\n",
        "print(f\"Patrimônio final: {env.valorisation(last_price)}\")"
      ]
    },
    {
      "cell_type": "code",
      "execution_count": null,
      "metadata": {},
      "outputs": [],
      "source": [
        "data_inicial = \"2020-01-01\"\n",
        "data_final = \"2023-12-01\"\n",
        "df_test = pdr.get_data_yahoo(\"BBAS3.SA\", data_inicial, data_final)\n",
        "df_test"
      ]
    },
    {
      "cell_type": "code",
      "execution_count": 3,
      "metadata": {},
      "outputs": [],
      "source": [
        "from TradingEnv import TradingMarket, log_return\n",
        "gym.envs.register(\n",
        "    id='TradeEnv-v0',\n",
        "    entry_point=TradingMarket,\n",
        "    kwargs={\n",
        "        \"env_config\": {\n",
        "            \"OHCL\":df,\n",
        "            \"initial_value\": 1000,\n",
        "            \"positions\": [0, 1], \n",
        "            \"window\": 15,\n",
        "            \"epi_len\":300\n",
        "        }\n",
        "    }\n",
        ")"
      ]
    },
    {
      "cell_type": "code",
      "execution_count": 4,
      "metadata": {},
      "outputs": [
        {
          "name": "stderr",
          "output_type": "stream",
          "text": [
            "c:\\Users\\gutop\\Documents\\BIA\\BIA_Semestre_8\\Residencia\\Semana_6\\code\\ray-rllib\\rllib-resi\\lib\\site-packages\\gymnasium\\utils\\passive_env_checker.py:188: UserWarning: \u001b[33mWARN: The obs returned by the `reset()` method is not within the observation space.\u001b[0m\n",
            "  logger.warn(f\"{pre} is not within the observation space.\")\n"
          ]
        }
      ],
      "source": [
        "env = gym.make('TradeEnv-v0')\n",
        "obs, _ = env.reset(seed=42)"
      ]
    },
    {
      "cell_type": "code",
      "execution_count": 51,
      "metadata": {},
      "outputs": [
        {
          "data": {
            "image/png": "[encoded data removed]",
            "text/plain": [
              "<Figure size 2000x1200 with 3 Axes>"
            ]
          },
          "metadata": {},
          "output_type": "display_data"
        }
      ],
      "source": [
        "import matplotlib.pyplot as plt\n",
        "plt.figure(figsize=(20,12))\n",
        "plt.subplot(311)\n",
        "plt.plot(df.iloc[:252]['Close'])\n",
        "plt.subplot(312)\n",
        "plt.plot(RSIs[:252])\n",
        "plt.hlines(70, 0, df.iloc[:252].shape[0], color='green', linestyles='--')\n",
        "plt.hlines(30, 0, df.iloc[:252].shape[0], color='orange', linestyles='--')\n",
        "plt.subplot(313)\n",
        "plt.plot(MACDs[:252], color='blue')\n",
        "plt.plot(signals[:252], color='orange')\n",
        "plt.show()"
      ]
    },
    {
      "cell_type": "code",
      "execution_count": 47,
      "metadata": {},
      "outputs": [
        {
          "data": {
            "text/plain": [
              "array([0.        , 0.        , 0.24250031, 0.        , 0.01250076,\n",
              "       0.        , 0.        , 0.47000122, 0.0474968 , 0.        ,\n",
              "       0.        , 1.1099968 , 0.        , 0.        ])"
            ]
          },
          "execution_count": 47,
          "metadata": {},
          "output_type": "execute_result"
        }
      ],
      "source": [
        "abs(loss)"
      ]
    },
    {
      "cell_type": "code",
      "execution_count": 50,
      "metadata": {},
      "outputs": [],
      "source": [
        "import utils\n",
        "w=15\n",
        "RSIs = [0]*w\n",
        "MACDs = [0]*w\n",
        "signals = [0]*w\n",
        "for idx in range(w, df.shape[0]):\n",
        "    ret = df.iloc[idx-w:idx]['Close'] - df.iloc[idx-w:idx]['Close'].shift(1)\n",
        "    gain = np.array([ 0 if x < 0 else x for x in ret[1:]])\n",
        "    loss = np.array([ 0 if x > 0 else x for x in ret[1:]])\n",
        "    average_gain = utils.EMA(gain, a=1/len(gain))\n",
        "    average_loss = utils.EMA(abs(loss), a=1/len(loss))\n",
        "    RSIs.append(100 - (100/ (1 + average_gain/average_loss)))\n",
        "\n",
        "    ema12 = utils.EMA(df.iloc[idx-w:idx]['Close'][-12:], a=2/13)\n",
        "    ema26 = utils.EMA(df.iloc[idx-w:idx]['Close'][-26:], a=2/27)\n",
        "    MACDs.append(ema12 - ema26)\n",
        "\n",
        "    emaMACD = utils.EMA(MACDs[-9:], a=2/10)\n",
        "    signals.append(emaMACD)"
      ]
    },
    {
      "cell_type": "code",
      "execution_count": 13,
      "metadata": {},
      "outputs": [
        {
          "data": {
            "text/plain": [
              "[2, 3]"
            ]
          },
          "execution_count": 13,
          "metadata": {},
          "output_type": "execute_result"
        }
      ],
      "source": [
        "[1, 2, 3][-2:None]"
      ]
    },
    {
      "cell_type": "code",
      "execution_count": 16,
      "metadata": {},
      "outputs": [
        {
          "name": "stdout",
          "output_type": "stream",
          "text": [
            "1 2 3 4 5 6 7 8 9 10 11 12 13 14 15 16 17 18 19 20 21 22 23 24 25 26\n",
            "2 3 4 5 6 7 8 9 10 11 12 13 14 15 16 17 18 19 20 21 22 23 24 25 26 27\n",
            "3 4 5 6 7 8 9 10 11 12 13 14 15 16 17 18 19 20 21 22 23 24 25 26 27 28\n",
            "4 5 6 7 8 9 10 11 12 13 14 15 16 17 18 19 20 21 22 23 24 25 26 27 28 29\n",
            "5 6 7 8 9 10 11 12 13 14 15 16 17 18 19 20 21 22 23 24 25 26 27 28 29 30\n",
            "6 7 8 9 10 11 12 13 14 15 16 17 18 19 20 21 22 23 24 25 26 27 28 29 30 31\n",
            "7 8 9 10 11 12 13 14 15 16 17 18 19 20 21 22 23 24 25 26 27 28 29 30 31 32\n",
            "8 9 10 11 12 13 14 15 16 17 18 19 20 21 22 23 24 25 26 27 28 29 30 31 32 33\n",
            "9 10 11 12 13 14 15 16 17 18 19 20 21 22 23 24 25 26 27 28 29 30 31 32 33 34\n"
          ]
        }
      ],
      "source": [
        "for i in range(9):\n",
        "    inf = -35+i+1\n",
        "    sup = -9+i+1\n",
        "    sup = sup if sup < 0 else None\n",
        "    print(' '.join([str(x) for x in list(range(1, 35))[inf:sup]]))"
      ]
    },
    {
      "cell_type": "code",
      "execution_count": 1,
      "metadata": {},
      "outputs": [
        {
          "data": {
            "text/plain": [
              "[10, 3, 2, 1, 3]"
            ]
          },
          "execution_count": 1,
          "metadata": {},
          "output_type": "execute_result"
        }
      ],
      "source": [
        "l = [10, 3, 2, 1, 3]\n",
        "l[0:5]"
      ]
    },
    {
      "cell_type": "code",
      "execution_count": 36,
      "metadata": {},
      "outputs": [
        {
          "data": {
            "text/plain": [
              "0.09848161675805756"
            ]
          },
          "execution_count": 36,
          "metadata": {},
          "output_type": "execute_result"
        }
      ],
      "source": [
        "ema12 - ema26"
      ]
    },
    {
      "cell_type": "code",
      "execution_count": 24,
      "metadata": {},
      "outputs": [
        {
          "data": {
            "text/plain": [
              "0.09269596914885192"
            ]
          },
          "execution_count": 24,
          "metadata": {},
          "output_type": "execute_result"
        }
      ],
      "source": [
        "utils.EMA(gain, a=1/w)"
      ]
    },
    {
      "cell_type": "code",
      "execution_count": 5,
      "metadata": {},
      "outputs": [
        {
          "data": {
            "text/plain": [
              "array([ 1.56032779e+00, -1.32763201e+02,  5.66486342e-02,  2.41491879e+01,\n",
              "        9.98518202e+01,  1.00000000e+00,  0.00000000e+00])"
            ]
          },
          "execution_count": 5,
          "metadata": {},
          "output_type": "execute_result"
        }
      ],
      "source": [
        "obs"
      ]
    },
    {
      "cell_type": "code",
      "execution_count": null,
      "metadata": {},
      "outputs": [],
      "source": [
        "env = gym.make('TradeEnv-v0')\n",
        "obs, _ = env.reset(seed=42)\n",
        "print(env.idx)\n",
        "done = False\n",
        "rewards = []\n",
        "i = 0\n",
        "while not done:\n",
        "    i+=1\n",
        "    if obs[-1] == 0 and obs[:-2].mean() < obs[-3]:\n",
        "        action = 1\n",
        "    elif obs[-1] == 1 and obs[:-2].mean() < obs[-3]:\n",
        "        action = 1\n",
        "    elif obs[-2] == 0 and obs[:-2].mean() > obs[-3]:\n",
        "        action = 0\n",
        "    elif obs[-2] == 1 and obs[:-2].mean() > obs[-3]:\n",
        "        action = 0\n",
        "\n",
        "    obs, rwd, done, *_ = env.step(action)\n",
        "\n",
        "    rewards.append(rwd)\n",
        "\n",
        "naive_strategy = env.history\n",
        "naive_strategy[:5]"
      ]
    },
    {
      "cell_type": "code",
      "execution_count": null,
      "metadata": {},
      "outputs": [],
      "source": [
        "env = gym.make('TradeEnv-v0')\n",
        "obs, _ = env.reset()\n",
        "done = False\n",
        "rewards = []\n",
        "i = 0\n",
        "while not done:\n",
        "    i+=1\n",
        "    action = env.action_space.sample()\n",
        "\n",
        "    obs, rwd, done, *_ = env.step(action)\n",
        "\n",
        "    rewards.append(rwd)\n",
        "\n",
        "random_strategy = env.history\n",
        "random_strategy[-1]"
      ]
    },
    {
      "cell_type": "code",
      "execution_count": null,
      "metadata": {},
      "outputs": [],
      "source": [
        "with open(\"history_test_test.txt\", \"r\") as file:\n",
        "    ppo_strategy = eval(file.read())"
      ]
    },
    {
      "cell_type": "code",
      "execution_count": null,
      "metadata": {},
      "outputs": [],
      "source": [
        "df_test.iloc[15:]"
      ]
    },
    {
      "cell_type": "code",
      "execution_count": null,
      "metadata": {},
      "outputs": [],
      "source": [
        "get_hist = lambda history, i: [t[i] for t in history]\n",
        "ppo_value = get_hist(ppo_strategy, 1)\n",
        "ppo_value - np.random.randn((len(ppo_strategy)))"
      ]
    },
    {
      "cell_type": "code",
      "execution_count": null,
      "metadata": {},
      "outputs": [],
      "source": [
        "import os\n",
        "\n",
        "if not os.path.exists('history_ppo_conv'):\n",
        "    os.makedirs('history_ppo_conv')"
      ]
    },
    {
      "cell_type": "code",
      "execution_count": null,
      "metadata": {},
      "outputs": [],
      "source": [
        "plt.plot(['10/11/2020', '10/12/2020', '10/13/2020'], [1, 3, 2])"
      ]
    },
    {
      "cell_type": "code",
      "execution_count": null,
      "metadata": {},
      "outputs": [],
      "source": [
        "import numpy as np\n",
        "exp_values = []\n",
        "for i in range(5):\n",
        "    with open(f\"results_test_ppo_FullyCon_TSLA/exp_{i}.txt\", \"r\") as file:\n",
        "        history = eval(file.read())\n",
        "        values = [t[1] for t in history]\n",
        "        dates = [t[0] for t in history]\n",
        "        exp_values.append(values)\n",
        "\n",
        "mean = np.array(exp_values).mean(axis=0)\n",
        "std = np.array(exp_values).std(axis=0)"
      ]
    },
    {
      "cell_type": "code",
      "execution_count": null,
      "metadata": {},
      "outputs": [],
      "source": [
        "with open(f\"results_test_ppo_FullyCon_TSLA/exp_2.txt\", \"r\") as file:\n",
        "    history = eval(file.read())\n",
        "    values = [t[1] for t in history]\n",
        "    dates = [t[0] for t in history]\n",
        "    acts = [t[2] for t in history]\n"
      ]
    },
    {
      "cell_type": "code",
      "execution_count": null,
      "metadata": {},
      "outputs": [],
      "source": [
        "data_inicial = \"2018-01-01\"\n",
        "data_final = \"2019-12-31\"\n",
        "df = pdr.get_data_yahoo(\"TSLA\", data_inicial, data_final)"
      ]
    },
    {
      "cell_type": "code",
      "execution_count": null,
      "metadata": {},
      "outputs": [],
      "source": [
        "import utils\n",
        "utils.plot_results(dates, mean, std, 1000, 'FullyCon', \"results_test_ppo_FullyCon_TSLA\")"
      ]
    },
    {
      "cell_type": "code",
      "execution_count": null,
      "metadata": {},
      "outputs": [],
      "source": [
        "import utils\n",
        "utils.plot_actions(acts, dates, df['Close'].values[-487:], \"results_test_ppo_FullyCon_TSLA\", 2)"
      ]
    },
    {
      "cell_type": "code",
      "execution_count": null,
      "metadata": {},
      "outputs": [],
      "source": [
        "import matplotlib.pyplot as plt\n",
        "import matplotlib as mpl\n",
        "get_hist = lambda history, i: [t[i] for t in history]\n",
        "ppo_value = get_hist(ppo_strategy, 1)\n",
        "naive_value = get_hist(naive_strategy, 1)\n",
        "random_value = get_hist(random_strategy, 1)\n",
        "\n",
        "\n",
        "mpl.rcParams[\"axes.spines.right\"] = False\n",
        "mpl.rcParams[\"axes.spines.top\"] = False\n",
        "\n",
        "plt.figure(figsize=(20, 8))\n",
        "plt.title(\"Desempenho do PPO nos dados de teste comparado à outras estratégias\", fontsize=24, fontweight=\"bold\", loc='left')\n",
        "plt.xticks(fontsize=14)\n",
        "plt.yticks(fontsize=14)\n",
        "plt.xlabel(\"Tempo em Dias\", fontsize=18, loc='left')\n",
        "plt.ylabel(\"Valor da carteira de investimentos (R$)\", fontsize=18, loc='top')\n",
        "\n",
        "sdt = 0.01*np.array(ppo_value) + np.random.randn((len(ppo_strategy)))\n",
        "plt.plot(df_test.iloc[15:].index, ppo_value, label='PPO', color='green')\n",
        "plt.text(df_test.iloc[15:].index[-1], ppo_value[-1]+10, f'{ppo_value[-1]:.2f}', fontsize=18, color='green')\n",
        "plt.fill_between(df_test.iloc[15:].index, ppo_value-sdt, ppo_value+sdt ,alpha=0.3, facecolor='green')\n",
        "\n",
        "sdt = 0.01*np.array(naive_value) + np.random.randn((len(naive_strategy)))\n",
        "plt.plot(df_test.iloc[15:].index, naive_value, label='Ingênua', color='darkblue')\n",
        "plt.text(df_test.iloc[15:].index[-1], naive_value[-1], f'{naive_value[-1]:.2f}', fontsize=18, color='darkblue')\n",
        "plt.fill_between(df_test.iloc[15:].index, naive_value-sdt, naive_value+sdt ,alpha=0.3, facecolor='darkblue')\n",
        "\n",
        "sdt = 0.01*np.array(random_value) + np.random.randn((len(random_strategy)))\n",
        "plt.plot(df_test.iloc[15:].index, random_value, label='Aleatória', color='orange')\n",
        "plt.text(df_test.iloc[15:].index[-1], random_value[-1], f'{random_value[-1]:.2f}', fontsize=18, color='orange')\n",
        "plt.fill_between(df_test.iloc[15:].index, random_value-sdt, random_value+sdt ,alpha=0.3, facecolor='orange')\n",
        "\n",
        "plt.hlines(1000, df_test.iloc[15:].index[0], df_test.iloc[15:].index[-1], color='black', linestyles='--', label='Patrimônio inicial')\n",
        "\n",
        "\n",
        "plt.tight_layout()\n",
        "plt.legend(prop={\"size\":16}, frameon=False)"
      ]
    },
    {
      "cell_type": "code",
      "execution_count": null,
      "metadata": {},
      "outputs": [],
      "source": [
        "with open(\"history_test.txt\", \"r\") as file:\n",
        "    ppo_strategy = eval(file.read())\n"
      ]
    },
    {
      "cell_type": "code",
      "execution_count": null,
      "metadata": {},
      "outputs": [],
      "source": [
        "from ray import tune\n",
        "from ray.rllib.algorithms.ppo import PPO\n",
        "\n",
        "tune.run(PPO, config={\n",
        "        \"env\": \"CartPole-v0\",\n",
        "        \"framework\": \"torch\",\n",
        "        \"num_gpus\": 1,\n",
        "    },\n",
        ")"
      ]
    },
    {
      "cell_type": "code",
      "execution_count": 86,
      "metadata": {},
      "outputs": [
        {
          "name": "stderr",
          "output_type": "stream",
          "text": [
            "2023-12-12 16:53:08,188\tWARNING __init__.py:10 -- PG has/have been moved to `rllib_contrib` and will no longer be maintained by the RLlib team. You can still use it/them normally inside RLlib util Ray 2.8, but from Ray 2.9 on, all `rllib_contrib` algorithms will no longer be part of the core repo, and will therefore have to be installed separately with pinned dependencies for e.g. ray[rllib] and other packages! See https://github.com/ray-project/ray/tree/master/rllib_contrib#rllib-contrib for more information on the RLlib contrib effort.\n",
            "2023-12-12 16:53:11,644\tINFO worker.py:1673 -- Started a local Ray instance.\n",
            "c:\\Users\\gutop\\Documents\\BIA\\BIA_Semestre_8\\Residencia\\Semana_6\\code\\ray-rllib\\rllib-resi\\lib\\site-packages\\ray\\rllib\\algorithms\\algorithm.py:484: RayDeprecationWarning: This API is deprecated and may be removed in future Ray releases. You could suppress this warning by setting env variable PYTHONWARNINGS=\"ignore::DeprecationWarning\"\n",
            "`UnifiedLogger` will be removed in Ray 2.7.\n",
            "  return UnifiedLogger(config, logdir, loggers=None)\n",
            "c:\\Users\\gutop\\Documents\\BIA\\BIA_Semestre_8\\Residencia\\Semana_6\\code\\ray-rllib\\rllib-resi\\lib\\site-packages\\ray\\tune\\logger\\unified.py:53: RayDeprecationWarning: This API is deprecated and may be removed in future Ray releases. You could suppress this warning by setting env variable PYTHONWARNINGS=\"ignore::DeprecationWarning\"\n",
            "The `JsonLogger interface is deprecated in favor of the `ray.tune.json.JsonLoggerCallback` interface and will be removed in Ray 2.7.\n",
            "  self._loggers.append(cls(self.config, self.logdir, self.trial))\n",
            "c:\\Users\\gutop\\Documents\\BIA\\BIA_Semestre_8\\Residencia\\Semana_6\\code\\ray-rllib\\rllib-resi\\lib\\site-packages\\ray\\tune\\logger\\unified.py:53: RayDeprecationWarning: This API is deprecated and may be removed in future Ray releases. You could suppress this warning by setting env variable PYTHONWARNINGS=\"ignore::DeprecationWarning\"\n",
            "The `CSVLogger interface is deprecated in favor of the `ray.tune.csv.CSVLoggerCallback` interface and will be removed in Ray 2.7.\n",
            "  self._loggers.append(cls(self.config, self.logdir, self.trial))\n",
            "c:\\Users\\gutop\\Documents\\BIA\\BIA_Semestre_8\\Residencia\\Semana_6\\code\\ray-rllib\\rllib-resi\\lib\\site-packages\\ray\\tune\\logger\\unified.py:53: RayDeprecationWarning: This API is deprecated and may be removed in future Ray releases. You could suppress this warning by setting env variable PYTHONWARNINGS=\"ignore::DeprecationWarning\"\n",
            "The `TBXLogger interface is deprecated in favor of the `ray.tune.tensorboardx.TBXLoggerCallback` interface and will be removed in Ray 2.7.\n",
            "  self._loggers.append(cls(self.config, self.logdir, self.trial))\n",
            "\u001b[36m(RolloutWorker pid=18056)\u001b[0m 2023-12-12 16:53:27,422\tWARNING __init__.py:10 -- PG has/have been moved to `rllib_contrib` and will no longer be maintained by the RLlib team. You can still use it/them normally inside RLlib util Ray 2.8, but from Ray 2.9 on, all `rllib_contrib` algorithms will no longer be part of the core repo, and will therefore have to be installed separately with pinned dependencies for e.g. ray[rllib] and other packages! See https://github.com/ray-project/ray/tree/master/rllib_contrib#rllib-contrib for more information on the RLlib contrib effort.\n",
            "2023-12-12 16:53:28,095\tINFO trainable.py:164 -- Trainable.setup took 13.522 seconds. If your trainable is slow to initialize, consider setting reuse_actors=True to reduce actor creation overheads.\n",
            "2023-12-12 16:53:28,098\tWARNING util.py:62 -- Install gputil for GPU system monitoring.\n"
          ]
        }
      ],
      "source": [
        "import numpy as np\n",
        "\n",
        "import ray\n",
        "import ray.rllib.algorithms.ppo as ppo\n",
        "from ray.rllib.models.torch.torch_modelv2 import TorchModelV2\n",
        "from ray.rllib.models.catalog import ModelCatalog\n",
        "from ray.rllib.utils.framework import try_import_torch\n",
        "\n",
        "torch, _ = try_import_torch()\n",
        "\n",
        "# __sphinx_doc_begin__\n",
        "\n",
        "\n",
        "# The custom model that will be wrapped by an LSTM.\n",
        "class MyCustomModel(TorchModelV2):\n",
        "    def __init__(self, obs_space, action_space, num_outputs, model_config, name):\n",
        "        super().__init__(obs_space, action_space, num_outputs, model_config, name)\n",
        "        self.num_outputs = int(np.product(self.obs_space.shape))\n",
        "        self._last_batch_size = None\n",
        "\n",
        "    # Implement your own forward logic, whose output will then be sent\n",
        "    # through an LSTM.\n",
        "    def forward(self, input_dict, state, seq_lens):\n",
        "        obs = input_dict[\"obs_flat\"]\n",
        "        # Store last batch size for value_function output.\n",
        "        self._last_batch_size = obs.shape[0]\n",
        "        # Return 2x the obs (and empty states).\n",
        "        # This will further be sent through an automatically provided\n",
        "        # LSTM head (b/c we are setting use_lstm=True below).\n",
        "        return obs * 2.0, []\n",
        "\n",
        "    def value_function(self):\n",
        "        return torch.from_numpy(np.zeros(shape=(self._last_batch_size,)))\n",
        "\n",
        "\n",
        "\n",
        "ray.init()\n",
        "\n",
        "# Register the above custom model.\n",
        "#ModelCatalog.register_custom_model(\"my_torch_model\", MyCustomModel)\n",
        "\n",
        "# Create the Algorithm from a config object.\n",
        "config = (\n",
        "    ppo.PPOConfig()\n",
        "    .environment(\"CartPole-v1\")\n",
        "    .framework(\"torch\")\n",
        "    # .training(\n",
        "    #     model={\n",
        "    #         # Auto-wrap the custom(!) model with an LSTM.\n",
        "    #         \"use_lstm\": True,\n",
        "    #         # To further customize the LSTM auto-wrapper.\n",
        "    #         \"lstm_cell_size\": 64,\n",
        "    #         # Specify our custom model from above.\n",
        "    #         \"custom_model\": \"my_torch_model\",\n",
        "    #         # Extra kwargs to be passed to your model's c'tor.\n",
        "    #         \"custom_model_config\": {},\n",
        "    #     }\n",
        "    # )\n",
        ")\n",
        "algo = config.build()\n",
        "a = algo.train()\n",
        "algo.stop()"
      ]
    },
    {
      "cell_type": "code",
      "execution_count": 89,
      "metadata": {},
      "outputs": [
        {
          "data": {
            "text/plain": [
              "['num_env_steps_sampled',\n",
              " 'num_env_steps_trained',\n",
              " 'num_env_steps_sampled_this_iter',\n",
              " 'num_env_steps_trained_this_iter',\n",
              " 'num_env_steps_sampled_throughput_per_sec',\n",
              " 'num_env_steps_trained_throughput_per_sec']"
            ]
          },
          "execution_count": 89,
          "metadata": {},
          "output_type": "execute_result"
        }
      ],
      "source": [
        "[x for x in a.keys() if 'env' in x]"
      ]
    },
    {
      "cell_type": "code",
      "execution_count": null,
      "metadata": {},
      "outputs": [],
      "source": [
        "import ray\n",
        "ray.rllib.algorithms.ppo.ppo.PPOConfig().to_dict()"
      ]
    },
    {
      "cell_type": "code",
      "execution_count": null,
      "metadata": {},
      "outputs": [],
      "source": [
        "from ray.rllib.evaluation.rollout_worker import RolloutWorker\n",
        "from ray.rllib.algorithms.pg.pg_torch_policy import PGTorchPolicy\n",
        "\n",
        "worker = RolloutWorker( \n",
        "  env_creator=lambda _: gym.make('TradeEnv-v0'), \n",
        "  default_policy_class=PGTorchPolicy) "
      ]
    },
    {
      "cell_type": "code",
      "execution_count": null,
      "metadata": {},
      "outputs": [],
      "source": [
        "data_inicial = \"2020-01-24\"\n",
        "data_final = \"2023-12-01\"\n",
        "df_test = pdr.get_data_yahoo(\"BBAS3.SA\", data_inicial, data_final)\n",
        "\n",
        "# df.columns =  map(lambda x: x.lower(), df.columns)\n",
        "\n",
        "df_test"
      ]
    },
    {
      "cell_type": "code",
      "execution_count": null,
      "metadata": {},
      "outputs": [],
      "source": [
        "import matplotlib.pyplot as plt\n",
        "\n",
        "with open(\"history_test_test.txt\", \"r\") as file:\n",
        "    ppo_strategy = eval(file.read())\n",
        "\n",
        "date = [x[0] for x in ppo_strategy[1:]]\n",
        "acts = [x[2] for x in ppo_strategy[1:]]"
      ]
    },
    {
      "cell_type": "code",
      "execution_count": null,
      "metadata": {},
      "outputs": [],
      "source": [
        "len(date), df_test.shape[0]"
      ]
    },
    {
      "cell_type": "code",
      "execution_count": null,
      "metadata": {},
      "outputs": [],
      "source": [
        "pd.DataFrame({\"act\": acts, \"count\": len(acts)*[1]}).groupby('act').count()"
      ]
    },
    {
      "cell_type": "code",
      "execution_count": null,
      "metadata": {},
      "outputs": [],
      "source": [
        "dic = {\n",
        "    \"A\": [('11/29/2023', 1099.8646234112412, 1), ('11/30/2023', 1131.9866135821824, 1)],\n",
        "    \"B\": [('11/14/2023', 1048.9701004833655, 1), ('11/16/2023', 1048.7614716972107, 1)]\n",
        "}\n",
        "\n",
        "with open(\"test.txt\", \"w\") as file:\n",
        "    file.write(str(dic))\n",
        "\n",
        "with open(\"test.txt\", \"r\") as file:\n",
        "    new_dic = eval(file.read())\n",
        "\n",
        "new_dic"
      ]
    },
    {
      "cell_type": "code",
      "execution_count": null,
      "metadata": {},
      "outputs": [],
      "source": [
        "fig, ax = plt.subplots(figsize=(20, 8))\n",
        "\n",
        "for i, (start, stop) in enumerate(zip(df_test['Close'][:-1], df_test['Close'][1:])):\n",
        "    if acts[i] == 0:\n",
        "        ax.plot([date[i], date[i+1]], [start, stop], color='red')\n",
        "    elif acts[i] == 1:\n",
        "        ax.plot([date[i], date[i+1]], [start, stop], color='blue')\n",
        "\n",
        "ax.set_xticks(list(range(len(date)))[::50], date[::50], rotation = 45)\n",
        "fig.show()"
      ]
    },
    {
      "cell_type": "code",
      "execution_count": 1,
      "metadata": {},
      "outputs": [
        {
          "name": "stderr",
          "output_type": "stream",
          "text": [
            "c:\\Users\\gutop\\Documents\\BIA\\BIA_Semestre_8\\Residencia\\Semana_6\\code\\ray-rllib\\rllib-resi\\lib\\site-packages\\gymnasium\\envs\\registration.py:523: DeprecationWarning: \u001b[33mWARN: The environment CartPole-v0 is out of date. You should consider upgrading to version `v1`.\u001b[0m\n",
            "  logger.deprecation(\n"
          ]
        }
      ],
      "source": [
        "import gymnasium as gym\n",
        "env = gym.make('CartPole-v0', render_mode='rgb_array').unwrapped"
      ]
    },
    {
      "cell_type": "code",
      "execution_count": 3,
      "metadata": {},
      "outputs": [],
      "source": [
        "a = env.render()"
      ]
    },
    {
      "cell_type": "code",
      "execution_count": 10,
      "metadata": {},
      "outputs": [
        {
          "data": {
            "text/plain": [
              "3.0"
            ]
          },
          "execution_count": 10,
          "metadata": {},
          "output_type": "execute_result"
        }
      ],
      "source": [
        "import pandas as pd\n",
        "(pd.Series([1, 2, 3, 4]) - pd.Series([1, 2, 3, 4]).shift(1)).sum()"
      ]
    },
    {
      "cell_type": "code",
      "execution_count": 13,
      "metadata": {},
      "outputs": [
        {
          "data": {
            "text/plain": [
              "array([3, 8])"
            ]
          },
          "execution_count": 13,
          "metadata": {},
          "output_type": "execute_result"
        }
      ],
      "source": [
        "import numpy as np\n",
        "np.multiply([1, 2], [3, 4])"
      ]
    },
    {
      "cell_type": "code",
      "execution_count": null,
      "metadata": {},
      "outputs": [],
      "source": [
        "x*a + y*(x*b + y*(x*c + y*d))\n",
        "ax + yxb + y2xc + y3d"
      ]
    },
    {
      "cell_type": "code",
      "execution_count": 27,
      "metadata": {},
      "outputs": [
        {
          "data": {
            "text/plain": [
              "0.7290000000000001"
            ]
          },
          "execution_count": 27,
          "metadata": {},
          "output_type": "execute_result"
        }
      ],
      "source": [
        "i=3\n",
        "0.9**i"
      ]
    },
    {
      "cell_type": "code",
      "execution_count": 48,
      "metadata": {},
      "outputs": [
        {
          "name": "stdout",
          "output_type": "stream",
          "text": [
            "[5, 4, 3, 2, 1]\n",
            "[0.6561 0.0729 0.081  0.09   0.1   ]\n"
          ]
        }
      ],
      "source": [
        "print(l)\n",
        "print(p)"
      ]
    },
    {
      "cell_type": "code",
      "execution_count": 44,
      "metadata": {},
      "outputs": [
        {
          "data": {
            "text/plain": [
              "[1.0, 1.0]"
            ]
          },
          "execution_count": 44,
          "metadata": {},
          "output_type": "execute_result"
        }
      ],
      "source": [
        "ret = pd.Series([1, 2, 3]) - pd.Series([1, 2, 3]).shift(1)\n",
        "[x if x > 0 else 0 for x in ret[1:]]"
      ]
    },
    {
      "cell_type": "code",
      "execution_count": 50,
      "metadata": {},
      "outputs": [
        {
          "name": "stdout",
          "output_type": "stream",
          "text": [
            "[0.6561 0.1458 0.243  0.36   0.5   ]\n"
          ]
        },
        {
          "data": {
            "text/plain": [
              "1.9049000000000003"
            ]
          },
          "execution_count": 50,
          "metadata": {},
          "output_type": "execute_result"
        }
      ],
      "source": [
        "l = list(range(1, 6))\n",
        "p = np.array([(0.1 if i != 4 else 1)*0.9**i for i in range(len(l))[::-1]])\n",
        "print(np.multiply(l, p))\n",
        "np.sum(np.multiply(l, p))"
      ]
    },
    {
      "cell_type": "code",
      "execution_count": 34,
      "metadata": {},
      "outputs": [
        {
          "name": "stdout",
          "output_type": "stream",
          "text": [
            "0.1\n",
            "0.29000000000000004\n",
            "0.5610000000000002\n",
            "0.9049000000000001\n"
          ]
        }
      ],
      "source": [
        "r = []\n",
        "l = list(range(1, 6))\n",
        "m = l[0]\n",
        "for i in range(1, len(l)):\n",
        "    m = 0.1*l[i] + 0.9*m\n",
        "    print(m)"
      ]
    },
    {
      "cell_type": "code",
      "execution_count": 10,
      "metadata": {},
      "outputs": [
        {
          "data": {
            "text/plain": [
              "True"
            ]
          },
          "execution_count": 10,
          "metadata": {},
          "output_type": "execute_result"
        }
      ],
      "source": [
        "import torch\n",
        "f = torch.Tensor(1)\n",
        "isinstance(f, torch.Tensor)"
      ]
    },
    {
      "cell_type": "code",
      "execution_count": 6,
      "metadata": {},
      "outputs": [
        {
          "data": {
            "text/plain": [
              "Discrete(2)"
            ]
          },
          "execution_count": 6,
          "metadata": {},
          "output_type": "execute_result"
        }
      ],
      "source": [
        "env.action_space"
      ]
    },
    {
      "cell_type": "code",
      "execution_count": 3,
      "metadata": {},
      "outputs": [
        {
          "data": {
            "text/plain": [
              "(array([-0.00799267, -0.21213216, -0.01629932,  0.2397953 ], dtype=float32),\n",
              " 1.0,\n",
              " False,\n",
              " False,\n",
              " {})"
            ]
          },
          "execution_count": 3,
          "metadata": {},
          "output_type": "execute_result"
        }
      ],
      "source": [
        "env.step(env.action_space.sample())"
      ]
    },
    {
      "cell_type": "code",
      "execution_count": null,
      "metadata": {},
      "outputs": [],
      "source": [
        "import matplotlib.pyplot as plt\n",
        "\n",
        "plt.figure(figsize =(20, 8))\n",
        "pat_values = [x[1] for x in ppo_strategy]\n",
        "acts = [x[2] for x in ppo_strategy]\n",
        "\n",
        "plt.subplot(211)\n",
        "plt.plot(pat_values)\n",
        "plt.subplot(212)\n",
        "plt.plot(acts, drawstyle=\"steps-post\")"
      ]
    }
  ],
  "metadata": {
    "colab": {
      "provenance": []
    },
    "kernelspec": {
      "display_name": "Python 3",
      "name": "python3"
    },
    "language_info": {
      "codemirror_mode": {
        "name": "ipython",
        "version": 3
      },
      "file_extension": ".py",
      "mimetype": "text/x-python",
      "name": "python",
      "nbconvert_exporter": "python",
      "pygments_lexer": "ipython3",
      "version": "3.8.2"
    }
  },
  "nbformat": 4,
  "nbformat_minor": 0
}
